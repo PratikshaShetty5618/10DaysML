{
  "nbformat": 4,
  "nbformat_minor": 0,
  "metadata": {
    "colab": {
      "name": "Day3_loan_cereal.ipynb",
      "provenance": [],
      "authorship_tag": "ABX9TyMmB46OMhTdvpU8d3xzHiMm",
      "include_colab_link": true
    },
    "kernelspec": {
      "name": "python3",
      "display_name": "Python 3"
    }
  },
  "cells": [
    {
      "cell_type": "markdown",
      "metadata": {
        "id": "view-in-github",
        "colab_type": "text"
      },
      "source": [
        "<a href=\"https://colab.research.google.com/github/PratikshaShetty5618/10DaysML/blob/master/Day3_loan_cereal.ipynb\" target=\"_parent\"><img src=\"https://colab.research.google.com/assets/colab-badge.svg\" alt=\"Open In Colab\"/></a>"
      ]
    },
    {
      "cell_type": "code",
      "metadata": {
        "id": "fE0gOxRCsTAq",
        "colab_type": "code",
        "colab": {}
      },
      "source": [
        "# Importing Library\n",
        "import pandas as pd\n",
        "import numpy as np\n",
        "from sklearn import preprocessing\n",
        "from sklearn.preprocessing import LabelEncoder"
      ],
      "execution_count": 0,
      "outputs": []
    },
    {
      "cell_type": "code",
      "metadata": {
        "id": "lHlmd_jttKLv",
        "colab_type": "code",
        "colab": {}
      },
      "source": [
        "# Reading the training dataset in a dataframe using Pandas\n",
        "df = pd.read_csv(\"http://iali.in/datasets/loan_status_train.csv\")"
      ],
      "execution_count": 0,
      "outputs": []
    },
    {
      "cell_type": "code",
      "metadata": {
        "id": "X6iXMeP9x4Ki",
        "colab_type": "code",
        "outputId": "2538bc8e-e54a-4688-912b-2c5078fc0cfd",
        "colab": {
          "base_uri": "https://localhost:8080/",
          "height": 241
        }
      },
      "source": [
        "df.head()"
      ],
      "execution_count": 0,
      "outputs": [
        {
          "output_type": "execute_result",
          "data": {
            "text/html": [
              "<div>\n",
              "<style scoped>\n",
              "    .dataframe tbody tr th:only-of-type {\n",
              "        vertical-align: middle;\n",
              "    }\n",
              "\n",
              "    .dataframe tbody tr th {\n",
              "        vertical-align: top;\n",
              "    }\n",
              "\n",
              "    .dataframe thead th {\n",
              "        text-align: right;\n",
              "    }\n",
              "</style>\n",
              "<table border=\"1\" class=\"dataframe\">\n",
              "  <thead>\n",
              "    <tr style=\"text-align: right;\">\n",
              "      <th></th>\n",
              "      <th>Loan_ID</th>\n",
              "      <th>Gender</th>\n",
              "      <th>Married</th>\n",
              "      <th>Dependents</th>\n",
              "      <th>Education</th>\n",
              "      <th>Self_Employed</th>\n",
              "      <th>ApplicantIncome</th>\n",
              "      <th>CoapplicantIncome</th>\n",
              "      <th>LoanAmount</th>\n",
              "      <th>Loan_Amount_Term</th>\n",
              "      <th>Credit_History</th>\n",
              "      <th>Property_Area</th>\n",
              "      <th>Loan_Status</th>\n",
              "    </tr>\n",
              "  </thead>\n",
              "  <tbody>\n",
              "    <tr>\n",
              "      <th>0</th>\n",
              "      <td>LP001002</td>\n",
              "      <td>Male</td>\n",
              "      <td>No</td>\n",
              "      <td>0</td>\n",
              "      <td>Graduate</td>\n",
              "      <td>No</td>\n",
              "      <td>5849</td>\n",
              "      <td>0.0</td>\n",
              "      <td>NaN</td>\n",
              "      <td>360.0</td>\n",
              "      <td>1.0</td>\n",
              "      <td>Urban</td>\n",
              "      <td>Y</td>\n",
              "    </tr>\n",
              "    <tr>\n",
              "      <th>1</th>\n",
              "      <td>LP001003</td>\n",
              "      <td>Male</td>\n",
              "      <td>Yes</td>\n",
              "      <td>1</td>\n",
              "      <td>Graduate</td>\n",
              "      <td>No</td>\n",
              "      <td>4583</td>\n",
              "      <td>1508.0</td>\n",
              "      <td>128.0</td>\n",
              "      <td>360.0</td>\n",
              "      <td>1.0</td>\n",
              "      <td>Rural</td>\n",
              "      <td>N</td>\n",
              "    </tr>\n",
              "    <tr>\n",
              "      <th>2</th>\n",
              "      <td>LP001005</td>\n",
              "      <td>Male</td>\n",
              "      <td>Yes</td>\n",
              "      <td>0</td>\n",
              "      <td>Graduate</td>\n",
              "      <td>Yes</td>\n",
              "      <td>3000</td>\n",
              "      <td>0.0</td>\n",
              "      <td>66.0</td>\n",
              "      <td>360.0</td>\n",
              "      <td>1.0</td>\n",
              "      <td>Urban</td>\n",
              "      <td>Y</td>\n",
              "    </tr>\n",
              "    <tr>\n",
              "      <th>3</th>\n",
              "      <td>LP001006</td>\n",
              "      <td>Male</td>\n",
              "      <td>Yes</td>\n",
              "      <td>0</td>\n",
              "      <td>Not Graduate</td>\n",
              "      <td>No</td>\n",
              "      <td>2583</td>\n",
              "      <td>2358.0</td>\n",
              "      <td>120.0</td>\n",
              "      <td>360.0</td>\n",
              "      <td>1.0</td>\n",
              "      <td>Urban</td>\n",
              "      <td>Y</td>\n",
              "    </tr>\n",
              "    <tr>\n",
              "      <th>4</th>\n",
              "      <td>LP001008</td>\n",
              "      <td>Male</td>\n",
              "      <td>No</td>\n",
              "      <td>0</td>\n",
              "      <td>Graduate</td>\n",
              "      <td>No</td>\n",
              "      <td>6000</td>\n",
              "      <td>0.0</td>\n",
              "      <td>141.0</td>\n",
              "      <td>360.0</td>\n",
              "      <td>1.0</td>\n",
              "      <td>Urban</td>\n",
              "      <td>Y</td>\n",
              "    </tr>\n",
              "  </tbody>\n",
              "</table>\n",
              "</div>"
            ],
            "text/plain": [
              "    Loan_ID Gender Married  ... Credit_History Property_Area Loan_Status\n",
              "0  LP001002   Male      No  ...            1.0         Urban           Y\n",
              "1  LP001003   Male     Yes  ...            1.0         Rural           N\n",
              "2  LP001005   Male     Yes  ...            1.0         Urban           Y\n",
              "3  LP001006   Male     Yes  ...            1.0         Urban           Y\n",
              "4  LP001008   Male      No  ...            1.0         Urban           Y\n",
              "\n",
              "[5 rows x 13 columns]"
            ]
          },
          "metadata": {
            "tags": []
          },
          "execution_count": 53
        }
      ]
    },
    {
      "cell_type": "code",
      "metadata": {
        "id": "Ru_O23dk813K",
        "colab_type": "code",
        "colab": {}
      },
      "source": [
        "# Add both ApplicantIncome and CoapplicantIncome to TotalIncome\n",
        "df['TotalIncome'] = df['ApplicantIncome'] + df['CoapplicantIncome']\n",
        "\n",
        "# Perform log transformation of LoanAmount to make it closer to normal\n",
        "df['LoanAmount_log'] = np.log(df['LoanAmount'])\n",
        "\n",
        "# Perform log transformation of TotalIncome to make it closer to normal\n",
        "df['TotalIncome_log'] = np.log(df['TotalIncome'])"
      ],
      "execution_count": 0,
      "outputs": []
    },
    {
      "cell_type": "code",
      "metadata": {
        "colab_type": "code",
        "id": "kkGj_NZK802D",
        "colab": {}
      },
      "source": [
        "# Replace missing value of Self_Employed with more frequent category\n",
        "df['Self_Employed'].fillna('No',inplace=True)\n",
        "\n",
        "#Imputing Missing values with mean for continuous variable\n",
        "df['LoanAmount'].fillna(df['LoanAmount'].mean(), inplace=True)\n",
        "df['LoanAmount_log'].fillna(df['LoanAmount_log'].mean(), inplace=True)\n",
        "df['TotalIncome_log'].fillna(df['TotalIncome_log'].mean(), inplace=True)\n",
        "df['Loan_Amount_Term'].fillna(df['Loan_Amount_Term'].mean(), inplace=True)\n",
        "df['ApplicantIncome'].fillna(df['ApplicantIncome'].mean(), inplace=True)\n",
        "df['CoapplicantIncome'].fillna(df['CoapplicantIncome'].mean(), inplace=True)\n",
        "\n",
        "#Imputing Missing values with mode for categorical variables\n",
        "df['Gender'].fillna(df['Gender'].mode()[0], inplace=True)\n",
        "df['Married'].fillna(df['Married'].mode()[0], inplace=True)\n",
        "df['Dependents'].fillna(df['Dependents'].mode()[0], inplace=True)\n",
        "df['Credit_History'].fillna(df['Credit_History'].mode()[0], inplace=True)"
      ],
      "execution_count": 0,
      "outputs": []
    },
    {
      "cell_type": "code",
      "metadata": {
        "id": "xVaFPAlDyCzj",
        "colab_type": "code",
        "outputId": "f0cc1dd8-550b-487a-df42-bf3f63a3a0e1",
        "colab": {
          "base_uri": "https://localhost:8080/",
          "height": 306
        }
      },
      "source": [
        "# Convert all non-numeric values to number\n",
        "cat_cols = ['Credit_History','Dependents','Gender','Married','Education','Property_Area','Self_Employed']\n",
        "\n",
        "for var in cat_cols:\n",
        "    le = preprocessing.LabelEncoder()\n",
        "    df[var]=le.fit_transform(df[var].astype('str'))\n",
        "df.dtypes"
      ],
      "execution_count": 0,
      "outputs": [
        {
          "output_type": "execute_result",
          "data": {
            "text/plain": [
              "Loan_ID               object\n",
              "Gender                 int64\n",
              "Married                int64\n",
              "Dependents             int64\n",
              "Education              int64\n",
              "Self_Employed          int64\n",
              "ApplicantIncome        int64\n",
              "CoapplicantIncome    float64\n",
              "LoanAmount           float64\n",
              "Loan_Amount_Term     float64\n",
              "Credit_History         int64\n",
              "Property_Area          int64\n",
              "Loan_Status           object\n",
              "TotalIncome          float64\n",
              "LoanAmount_log       float64\n",
              "TotalIncome_log      float64\n",
              "dtype: object"
            ]
          },
          "metadata": {
            "tags": []
          },
          "execution_count": 56
        }
      ]
    },
    {
      "cell_type": "code",
      "metadata": {
        "id": "6YFuNkS1yIOY",
        "colab_type": "code",
        "colab": {}
      },
      "source": [
        "#Splitting the dataset into Training and Test set\n",
        "from sklearn.model_selection import train_test_split\n",
        "predictors_Logistic=['Credit_History','Education','Gender']\n",
        "X = df[list(predictors_Logistic)].values\n",
        "Y = df[\"Loan_Status\"].values\n",
        "x_train, x_test, y_train, y_test = train_test_split(X, Y, test_size = 0.2, random_state = 0)"
      ],
      "execution_count": 0,
      "outputs": []
    },
    {
      "cell_type": "code",
      "metadata": {
        "id": "YaHkwSR07Eef",
        "colab_type": "code",
        "colab": {}
      },
      "source": [
        "#Generic function for making a classification model and accessing performance:\n",
        "\n",
        "def classification_model(model, data, predictors, outcome):\n",
        "    #Fit the model:\n",
        "    model.fit(data[predictors],data[outcome])\n",
        "  \n",
        "    #Make predictions on training set:\n",
        "    predictions = model.predict(data[predictors])\n",
        "  \n",
        "    #Print accuracy\n",
        "    accuracy = metrics.accuracy_score(predictions,data[outcome])\n",
        "    print (\"Accuracy : %s\" % \"{0:.3%}\".format(accuracy))\n",
        "\n",
        "    #Fit the model again so that it can be refered outside the function:\n",
        "    model.fit(data[predictors],data[outcome])"
      ],
      "execution_count": 0,
      "outputs": []
    },
    {
      "cell_type": "code",
      "metadata": {
        "id": "ivdRsNlnAZve",
        "colab_type": "code",
        "outputId": "48289599-cbed-44cd-cbce-02b9a0185ab8",
        "colab": {
          "base_uri": "https://localhost:8080/",
          "height": 153
        }
      },
      "source": [
        "from sklearn.linear_model import LogisticRegression\n",
        "import sklearn.metrics as metrics\n",
        "from sklearn.model_selection import KFold\n",
        "\n",
        "# Create logistic regression object\n",
        "model = LogisticRegression()\n",
        "\n",
        "# Train the model using the training sets\n",
        "model.fit(x_train, y_train)\n",
        "\n",
        "#Predict Output\n",
        "predicted= model.predict(x_test)\n",
        "\n",
        "#Reverse encoding for predicted outcome\n",
        "#predicted = le.inverse_transform(predicted)\n",
        "\n",
        "outcome_var = 'Loan_Status'\n",
        "\n",
        "classification_model(model, df,predictors_Logistic,outcome_var)\n",
        "print()\n",
        "# define one new instance\n",
        "print(\"*****Example to test classification*****\")\n",
        "ch = int(input(\"Enter Credit History: \"))\n",
        "ed = int(input(\"Enter Education: 1-->graduate 0-->Non-Graduate \"))\n",
        "gender = int(input(\"Enter Gender: 1-->Male 0-->Female \"))\n",
        "Xnew = [[ch, ed, gender]]\n",
        "# make a prediction\n",
        "ynew = model.predict(Xnew)\n",
        "print()\n",
        "print(\"Prediction = %s\" % (ynew[0]))"
      ],
      "execution_count": 0,
      "outputs": [
        {
          "output_type": "stream",
          "text": [
            "Accuracy : 80.945%\n",
            "\n",
            "*****Example to test classification*****\n",
            "Enter Credit History: 1\n",
            "Enter Education: 1-->graduate 0-->Non-Graduate 0\n",
            "Enter Gender: 1-->Male 0-->Female 0\n",
            "\n",
            "Prediction = Y\n"
          ],
          "name": "stdout"
        }
      ]
    },
    {
      "cell_type": "code",
      "metadata": {
        "id": "nBSDgXkTEvPW",
        "colab_type": "code",
        "colab": {}
      },
      "source": [
        "import pandas as pd\n",
        "import numpy as np\n",
        "import matplotlib.pyplot as plt\n",
        "from sklearn.model_selection import train_test_split\n",
        "\n",
        "df = pd.read_csv(\"http://iali.in/datasets/cereal.csv\")\n",
        "\n",
        "#Splitting the dataset into Training and Test set\n",
        "predictors_Linear=['sugars','protein','fat','calories','fiber']\n",
        "X = df[list(predictors_Linear)].values\n",
        "Y = df[\"rating\"].values\n",
        "x_train, x_test, y_train, y_test = train_test_split(X, Y, test_size = 0.2, random_state = 0)"
      ],
      "execution_count": 0,
      "outputs": []
    },
    {
      "cell_type": "code",
      "metadata": {
        "id": "gxhsT_ifOUNp",
        "colab_type": "code",
        "outputId": "a92b309f-730a-4718-a208-3a38163e121a",
        "colab": {
          "base_uri": "https://localhost:8080/",
          "height": 187
        }
      },
      "source": [
        "from sklearn.linear_model import LinearRegression\n",
        "from sklearn.metrics import r2_score\n",
        "\n",
        "# Create logistic regression object\n",
        "model = LinearRegression()\n",
        "\n",
        "# Train the model using the training sets\n",
        "model.fit(x_train, y_train)\n",
        "\n",
        "#Predict Output\n",
        "predicted= model.predict(x_test)\n",
        "\n",
        "#Reverse encoding for predicted outcome\n",
        "#predicted = le.inverse_transform(predicted)\n",
        "\n",
        "outcome_var = 'rating'\n",
        "\n",
        "print(\"Accuracy: \"+str(r2_score(y_test,predicted)*100)+\"%\")\n",
        "print()\n",
        "# define one new instance\n",
        "print(\"*****Example to test prediction*****\")\n",
        "sg = int(input(\"Enter Sugar: \"))\n",
        "pr = int(input(\"Enter Protein: \"))\n",
        "fat = int(input(\"Enter Fat: \"))\n",
        "cal = int(input(\"Enter Calories: \"))\n",
        "fiber = float(input(\"Enter Fiber: \"))\n",
        "Xnew = [[sg,pr,fat,cal,fiber]]\n",
        "# make a prediction\n",
        "ynew = model.predict(Xnew)\n",
        "print()\n",
        "print(\"Prediction = %s\" % (ynew[0]))"
      ],
      "execution_count": 0,
      "outputs": [
        {
          "output_type": "stream",
          "text": [
            "Accuracy: 90.23828555925195%\n",
            "\n",
            "*****Example to test prediction*****\n",
            "Enter Sugar: 5\n",
            "Enter Protein: 4\n",
            "Enter Fat: 1\n",
            "Enter Calories: 70\n",
            "Enter Fiber: 9\n",
            "\n",
            "Prediction = 68.16346985926454\n"
          ],
          "name": "stdout"
        }
      ]
    },
    {
      "cell_type": "code",
      "metadata": {
        "id": "ltPGADOcZXpk",
        "colab_type": "code",
        "outputId": "0e3280b7-63e1-4704-bcc2-8e0f6977f9b6",
        "colab": {
          "base_uri": "https://localhost:8080/",
          "height": 204
        }
      },
      "source": [
        "df.head()"
      ],
      "execution_count": 0,
      "outputs": [
        {
          "output_type": "execute_result",
          "data": {
            "text/html": [
              "<div>\n",
              "<style scoped>\n",
              "    .dataframe tbody tr th:only-of-type {\n",
              "        vertical-align: middle;\n",
              "    }\n",
              "\n",
              "    .dataframe tbody tr th {\n",
              "        vertical-align: top;\n",
              "    }\n",
              "\n",
              "    .dataframe thead th {\n",
              "        text-align: right;\n",
              "    }\n",
              "</style>\n",
              "<table border=\"1\" class=\"dataframe\">\n",
              "  <thead>\n",
              "    <tr style=\"text-align: right;\">\n",
              "      <th></th>\n",
              "      <th>name</th>\n",
              "      <th>mfr</th>\n",
              "      <th>type</th>\n",
              "      <th>calories</th>\n",
              "      <th>protein</th>\n",
              "      <th>fat</th>\n",
              "      <th>sodium</th>\n",
              "      <th>fiber</th>\n",
              "      <th>carbo</th>\n",
              "      <th>sugars</th>\n",
              "      <th>potass</th>\n",
              "      <th>vitamins</th>\n",
              "      <th>shelf</th>\n",
              "      <th>weight</th>\n",
              "      <th>cups</th>\n",
              "      <th>rating</th>\n",
              "    </tr>\n",
              "  </thead>\n",
              "  <tbody>\n",
              "    <tr>\n",
              "      <th>0</th>\n",
              "      <td>100% Bran</td>\n",
              "      <td>N</td>\n",
              "      <td>C</td>\n",
              "      <td>70</td>\n",
              "      <td>4</td>\n",
              "      <td>1</td>\n",
              "      <td>130</td>\n",
              "      <td>10.0</td>\n",
              "      <td>5.0</td>\n",
              "      <td>6</td>\n",
              "      <td>280</td>\n",
              "      <td>25</td>\n",
              "      <td>3</td>\n",
              "      <td>1.0</td>\n",
              "      <td>0.33</td>\n",
              "      <td>68.402973</td>\n",
              "    </tr>\n",
              "    <tr>\n",
              "      <th>1</th>\n",
              "      <td>100% Natural Bran</td>\n",
              "      <td>Q</td>\n",
              "      <td>C</td>\n",
              "      <td>120</td>\n",
              "      <td>3</td>\n",
              "      <td>5</td>\n",
              "      <td>15</td>\n",
              "      <td>2.0</td>\n",
              "      <td>8.0</td>\n",
              "      <td>8</td>\n",
              "      <td>135</td>\n",
              "      <td>0</td>\n",
              "      <td>3</td>\n",
              "      <td>1.0</td>\n",
              "      <td>1.00</td>\n",
              "      <td>33.983679</td>\n",
              "    </tr>\n",
              "    <tr>\n",
              "      <th>2</th>\n",
              "      <td>All-Bran</td>\n",
              "      <td>K</td>\n",
              "      <td>C</td>\n",
              "      <td>70</td>\n",
              "      <td>4</td>\n",
              "      <td>1</td>\n",
              "      <td>260</td>\n",
              "      <td>9.0</td>\n",
              "      <td>7.0</td>\n",
              "      <td>5</td>\n",
              "      <td>320</td>\n",
              "      <td>25</td>\n",
              "      <td>3</td>\n",
              "      <td>1.0</td>\n",
              "      <td>0.33</td>\n",
              "      <td>59.425505</td>\n",
              "    </tr>\n",
              "    <tr>\n",
              "      <th>3</th>\n",
              "      <td>All-Bran with Extra Fiber</td>\n",
              "      <td>K</td>\n",
              "      <td>C</td>\n",
              "      <td>50</td>\n",
              "      <td>4</td>\n",
              "      <td>0</td>\n",
              "      <td>140</td>\n",
              "      <td>14.0</td>\n",
              "      <td>8.0</td>\n",
              "      <td>0</td>\n",
              "      <td>330</td>\n",
              "      <td>25</td>\n",
              "      <td>3</td>\n",
              "      <td>1.0</td>\n",
              "      <td>0.50</td>\n",
              "      <td>93.704912</td>\n",
              "    </tr>\n",
              "    <tr>\n",
              "      <th>4</th>\n",
              "      <td>Almond Delight</td>\n",
              "      <td>R</td>\n",
              "      <td>C</td>\n",
              "      <td>110</td>\n",
              "      <td>2</td>\n",
              "      <td>2</td>\n",
              "      <td>200</td>\n",
              "      <td>1.0</td>\n",
              "      <td>14.0</td>\n",
              "      <td>8</td>\n",
              "      <td>-1</td>\n",
              "      <td>25</td>\n",
              "      <td>3</td>\n",
              "      <td>1.0</td>\n",
              "      <td>0.75</td>\n",
              "      <td>34.384843</td>\n",
              "    </tr>\n",
              "  </tbody>\n",
              "</table>\n",
              "</div>"
            ],
            "text/plain": [
              "                        name mfr type  calories  ...  shelf  weight  cups     rating\n",
              "0                  100% Bran   N    C        70  ...      3     1.0  0.33  68.402973\n",
              "1          100% Natural Bran   Q    C       120  ...      3     1.0  1.00  33.983679\n",
              "2                   All-Bran   K    C        70  ...      3     1.0  0.33  59.425505\n",
              "3  All-Bran with Extra Fiber   K    C        50  ...      3     1.0  0.50  93.704912\n",
              "4             Almond Delight   R    C       110  ...      3     1.0  0.75  34.384843\n",
              "\n",
              "[5 rows x 16 columns]"
            ]
          },
          "metadata": {
            "tags": []
          },
          "execution_count": 48
        }
      ]
    },
    {
      "cell_type": "code",
      "metadata": {
        "id": "Xxvpy3hDbWYg",
        "colab_type": "code",
        "outputId": "fa756a8c-b7f7-406a-c4a1-38e13c4d1f35",
        "colab": {
          "base_uri": "https://localhost:8080/",
          "height": 374
        }
      },
      "source": [
        "df.info()"
      ],
      "execution_count": 0,
      "outputs": [
        {
          "output_type": "stream",
          "text": [
            "<class 'pandas.core.frame.DataFrame'>\n",
            "RangeIndex: 77 entries, 0 to 76\n",
            "Data columns (total 16 columns):\n",
            "name        77 non-null object\n",
            "mfr         77 non-null object\n",
            "type        77 non-null object\n",
            "calories    77 non-null int64\n",
            "protein     77 non-null int64\n",
            "fat         77 non-null int64\n",
            "sodium      77 non-null int64\n",
            "fiber       77 non-null float64\n",
            "carbo       77 non-null float64\n",
            "sugars      77 non-null int64\n",
            "potass      77 non-null int64\n",
            "vitamins    77 non-null int64\n",
            "shelf       77 non-null int64\n",
            "weight      77 non-null float64\n",
            "cups        77 non-null float64\n",
            "rating      77 non-null float64\n",
            "dtypes: float64(5), int64(8), object(3)\n",
            "memory usage: 9.8+ KB\n"
          ],
          "name": "stdout"
        }
      ]
    },
    {
      "cell_type": "code",
      "metadata": {
        "id": "P4FNceBBeERU",
        "colab_type": "code",
        "colab": {}
      },
      "source": [
        ""
      ],
      "execution_count": 0,
      "outputs": []
    }
  ]
}